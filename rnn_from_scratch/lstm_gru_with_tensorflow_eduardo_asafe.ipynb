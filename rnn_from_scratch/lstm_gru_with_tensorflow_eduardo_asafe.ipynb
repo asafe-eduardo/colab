{
  "nbformat": 4,
  "nbformat_minor": 0,
  "metadata": {
    "colab": {
      "name": "lstm_gru_with_tensorflow_eduardo_asafe.ipynb",
      "version": "0.3.2",
      "provenance": [],
      "collapsed_sections": [],
      "toc_visible": true,
      "include_colab_link": true
    },
    "kernelspec": {
      "display_name": "Python 2",
      "language": "python",
      "name": "python2"
    },
    "language_info": {
      "codemirror_mode": {
        "name": "ipython",
        "version": 2
      },
      "file_extension": ".py",
      "mimetype": "text/x-python",
      "name": "python",
      "nbconvert_exporter": "python",
      "pygments_lexer": "ipython2",
      "version": "2.7.15"
    }
  },
  "cells": [
    {
      "cell_type": "markdown",
      "metadata": {
        "id": "view-in-github",
        "colab_type": "text"
      },
      "source": [
        "<a href=\"https://colab.research.google.com/github/asafe-eduardo/colab/blob/master/rnn_from_scratch/lstm_gru_with_tensorflow_eduardo_asafe.ipynb\" target=\"_parent\"><img src=\"https://colab.research.google.com/assets/colab-badge.svg\" alt=\"Open In Colab\"/></a>"
      ]
    },
    {
      "cell_type": "markdown",
      "metadata": {
        "id": "fZUPFV0wgB6p",
        "colab_type": "text"
      },
      "source": [
        "# OBJECTIVES #"
      ]
    },
    {
      "cell_type": "markdown",
      "metadata": {
        "id": "E9tu0uZEgB6r",
        "colab_type": "text"
      },
      "source": [
        "Para as datas devem predizer qual são os montantes para os próximos pontos de entrada na validação e teste. E verificar em uma outra predição os pontos de melhores clientes. Lembrando que não quero a melhor predição e sim como irá ficar a arquitetura e as explicações."
      ]
    },
    {
      "cell_type": "markdown",
      "metadata": {
        "id": "nB2RCFgNgB6t",
        "colab_type": "text"
      },
      "source": [
        "### GENERAL INFO\n",
        "\n",
        "`Account No.` - representa o número da conta envolvida na transação.\n",
        "\n",
        "`Date` - data da transação.\n",
        "\n",
        "`Transaction Details` - narrações de transação em extratos bancários.\n",
        "\n",
        "`Cheque No.` - indica o número do cheque.\n",
        "\n",
        "`Value Date` - Data de conclusão da transação.\n",
        "\n",
        "`Withdrawal Amount` - Indica o montante retirado.\n",
        "\n",
        "`Deposit Amount` - Indica o valor depositado.\n",
        "\n",
        "`Balance Amount` - saldo atual da conta.\n",
        "\n"
      ]
    },
    {
      "cell_type": "markdown",
      "metadata": {
        "colab_type": "text",
        "id": "Vb94M2tHXpI9"
      },
      "source": [
        "### IMPORTS"
      ]
    },
    {
      "cell_type": "code",
      "metadata": {
        "colab_type": "code",
        "id": "BVMZZqQiSTxW",
        "colab": {}
      },
      "source": [
        "import numpy as np\n",
        "import pandas as pd\n",
        "import math\n",
        "from sklearn.preprocessing import OrdinalEncoder\n",
        "from sklearn.preprocessing import MinMaxScaler\n",
        "from sklearn.model_selection import train_test_split\n",
        "import datetime\n",
        "import matplotlib.pyplot as plt\n",
        "import tensorflow as tf\n",
        "from tensorflow.keras.utils import to_categorical"
      ],
      "execution_count": 0,
      "outputs": []
    },
    {
      "cell_type": "code",
      "metadata": {
        "id": "braDqTlNgB64",
        "colab_type": "code",
        "colab": {
          "base_uri": "https://localhost:8080/",
          "height": 34
        },
        "outputId": "7c9087ef-3935-44c2-f920-e310339e8e7a"
      },
      "source": [
        "tf_version = tf.__version__\n",
        "print(tf_version) ## 1.14\n",
        "\n",
        "tf.reset_default_graph() ## reset graph"
      ],
      "execution_count": 109,
      "outputs": [
        {
          "output_type": "stream",
          "text": [
            "1.14.0\n"
          ],
          "name": "stdout"
        }
      ]
    },
    {
      "cell_type": "markdown",
      "metadata": {
        "id": "aFW2p4LqgB7A",
        "colab_type": "text"
      },
      "source": [
        "### LOAD DATA ###"
      ]
    },
    {
      "cell_type": "code",
      "metadata": {
        "id": "M7oKzjKIgB7B",
        "colab_type": "code",
        "colab": {}
      },
      "source": [
        "dataframe = pd.read_excel(\"./bank.xlsx\", Header=0, parser_dates=True)"
      ],
      "execution_count": 0,
      "outputs": []
    },
    {
      "cell_type": "code",
      "metadata": {
        "id": "MDGhOuuQgB7F",
        "colab_type": "code",
        "colab": {
          "base_uri": "https://localhost:8080/",
          "height": 306
        },
        "outputId": "1017ee19-a45a-4bcd-e2a5-45893e39a46e"
      },
      "source": [
        "dataframe.head() ## a taste of dataframe"
      ],
      "execution_count": 111,
      "outputs": [
        {
          "output_type": "execute_result",
          "data": {
            "text/html": [
              "<div>\n",
              "<style scoped>\n",
              "    .dataframe tbody tr th:only-of-type {\n",
              "        vertical-align: middle;\n",
              "    }\n",
              "\n",
              "    .dataframe tbody tr th {\n",
              "        vertical-align: top;\n",
              "    }\n",
              "\n",
              "    .dataframe thead th {\n",
              "        text-align: right;\n",
              "    }\n",
              "</style>\n",
              "<table border=\"1\" class=\"dataframe\">\n",
              "  <thead>\n",
              "    <tr style=\"text-align: right;\">\n",
              "      <th></th>\n",
              "      <th>Account No</th>\n",
              "      <th>DATE</th>\n",
              "      <th>TRANSACTION DETAILS</th>\n",
              "      <th>CHQ.NO.</th>\n",
              "      <th>VALUE DATE</th>\n",
              "      <th>WITHDRAWAL AMT</th>\n",
              "      <th>DEPOSIT AMT</th>\n",
              "      <th>BALANCE AMT</th>\n",
              "      <th>.</th>\n",
              "    </tr>\n",
              "  </thead>\n",
              "  <tbody>\n",
              "    <tr>\n",
              "      <th>0</th>\n",
              "      <td>409000611074'</td>\n",
              "      <td>2017-06-29</td>\n",
              "      <td>TRF FROM  Indiaforensic SERVICES</td>\n",
              "      <td>NaN</td>\n",
              "      <td>2017-06-29</td>\n",
              "      <td>NaN</td>\n",
              "      <td>1000000.0</td>\n",
              "      <td>1000000.0</td>\n",
              "      <td>.</td>\n",
              "    </tr>\n",
              "    <tr>\n",
              "      <th>1</th>\n",
              "      <td>409000611074'</td>\n",
              "      <td>2017-07-05</td>\n",
              "      <td>TRF FROM  Indiaforensic SERVICES</td>\n",
              "      <td>NaN</td>\n",
              "      <td>2017-07-05</td>\n",
              "      <td>NaN</td>\n",
              "      <td>1000000.0</td>\n",
              "      <td>2000000.0</td>\n",
              "      <td>.</td>\n",
              "    </tr>\n",
              "    <tr>\n",
              "      <th>2</th>\n",
              "      <td>409000611074'</td>\n",
              "      <td>2017-07-18</td>\n",
              "      <td>FDRL/INTERNAL FUND TRANSFE</td>\n",
              "      <td>NaN</td>\n",
              "      <td>2017-07-18</td>\n",
              "      <td>NaN</td>\n",
              "      <td>500000.0</td>\n",
              "      <td>2500000.0</td>\n",
              "      <td>.</td>\n",
              "    </tr>\n",
              "    <tr>\n",
              "      <th>3</th>\n",
              "      <td>409000611074'</td>\n",
              "      <td>2017-08-01</td>\n",
              "      <td>TRF FRM  Indiaforensic SERVICES</td>\n",
              "      <td>NaN</td>\n",
              "      <td>2017-08-01</td>\n",
              "      <td>NaN</td>\n",
              "      <td>3000000.0</td>\n",
              "      <td>5500000.0</td>\n",
              "      <td>.</td>\n",
              "    </tr>\n",
              "    <tr>\n",
              "      <th>4</th>\n",
              "      <td>409000611074'</td>\n",
              "      <td>2017-08-16</td>\n",
              "      <td>FDRL/INTERNAL FUND TRANSFE</td>\n",
              "      <td>NaN</td>\n",
              "      <td>2017-08-16</td>\n",
              "      <td>NaN</td>\n",
              "      <td>500000.0</td>\n",
              "      <td>6000000.0</td>\n",
              "      <td>.</td>\n",
              "    </tr>\n",
              "  </tbody>\n",
              "</table>\n",
              "</div>"
            ],
            "text/plain": [
              "      Account No       DATE  ... BALANCE AMT  .\n",
              "0  409000611074' 2017-06-29  ...   1000000.0  .\n",
              "1  409000611074' 2017-07-05  ...   2000000.0  .\n",
              "2  409000611074' 2017-07-18  ...   2500000.0  .\n",
              "3  409000611074' 2017-08-01  ...   5500000.0  .\n",
              "4  409000611074' 2017-08-16  ...   6000000.0  .\n",
              "\n",
              "[5 rows x 9 columns]"
            ]
          },
          "metadata": {
            "tags": []
          },
          "execution_count": 111
        }
      ]
    },
    {
      "cell_type": "code",
      "metadata": {
        "scrolled": true,
        "id": "mFifn6FJgB7K",
        "colab_type": "code",
        "colab": {
          "base_uri": "https://localhost:8080/",
          "height": 255
        },
        "outputId": "726eb2f4-25a8-412a-8eb0-48ea442ad455"
      },
      "source": [
        "dataframe.info() ##print infos of dataframe"
      ],
      "execution_count": 112,
      "outputs": [
        {
          "output_type": "stream",
          "text": [
            "<class 'pandas.core.frame.DataFrame'>\n",
            "RangeIndex: 116201 entries, 0 to 116200\n",
            "Data columns (total 9 columns):\n",
            "Account No             116201 non-null object\n",
            "DATE                   116201 non-null datetime64[ns]\n",
            "TRANSACTION DETAILS    113702 non-null object\n",
            "CHQ.NO.                905 non-null float64\n",
            "VALUE DATE             116201 non-null datetime64[ns]\n",
            "WITHDRAWAL AMT         53549 non-null float64\n",
            "DEPOSIT AMT            62652 non-null float64\n",
            "BALANCE AMT            116201 non-null float64\n",
            ".                      116201 non-null object\n",
            "dtypes: datetime64[ns](2), float64(4), object(3)\n",
            "memory usage: 8.0+ MB\n"
          ],
          "name": "stdout"
        }
      ]
    },
    {
      "cell_type": "markdown",
      "metadata": {
        "id": "RIj1b-BQgB7O",
        "colab_type": "text"
      },
      "source": [
        "Exist 9 columns.\n",
        "\n",
        "total de rows = 116201\n",
        "\n",
        "the columns `TRANSACTION DETAILS, CHQ.NO., WITHDRAWAL AMT, DEPOSIT AMT` have less rows that dataframe has so we need did do the following strategy:\n",
        "    - cut off the columns with few values\n",
        "    - fill the empty columns values with some value\n",
        "    \n",
        "but before this let's taste a flavor of values of the dataframe"
      ]
    },
    {
      "cell_type": "code",
      "metadata": {
        "scrolled": true,
        "id": "LSUu7Xc9gB7P",
        "colab_type": "code",
        "colab": {
          "base_uri": "https://localhost:8080/",
          "height": 1000
        },
        "outputId": "8260bf6b-fe03-4426-c145-45f68f9eb27b"
      },
      "source": [
        "for column in dataframe.columns:\n",
        "    print('========================   PRINT VALUES ========================================')\n",
        "    print('column: {0}, \\nvalues: {1}'.format(column, dataframe[column].unique()[0:20]))\n",
        "    print('============================= COLUMN INFO ======================================')\n",
        "    print('unique values in column: {0} = {1}'.format(column, len(dataframe[column].unique())))\n",
        "    print('\\n\\n')"
      ],
      "execution_count": 113,
      "outputs": [
        {
          "output_type": "stream",
          "text": [
            "========================   PRINT VALUES ========================================\n",
            "column: Account No, \n",
            "values: [u\"409000611074'\" u\"409000493201'\" u\"409000425051'\" u\"409000405747'\"\n",
            " u\"409000438611'\" u\"409000493210'\" u\"409000438620'\" u\"1196711'\"\n",
            " u\"1196428'\" u\"409000362497'\"]\n",
            "============================= COLUMN INFO ======================================\n",
            "unique values in column: Account No = 10\n",
            "\n",
            "\n",
            "\n",
            "========================   PRINT VALUES ========================================\n",
            "column: DATE, \n",
            "values: ['2017-06-29T00:00:00.000000000' '2017-07-05T00:00:00.000000000'\n",
            " '2017-07-18T00:00:00.000000000' '2017-08-01T00:00:00.000000000'\n",
            " '2017-08-16T00:00:00.000000000' '2017-09-06T00:00:00.000000000'\n",
            " '2017-09-25T00:00:00.000000000' '2017-09-26T00:00:00.000000000'\n",
            " '2017-09-27T00:00:00.000000000' '2017-09-28T00:00:00.000000000'\n",
            " '2017-10-03T00:00:00.000000000' '2017-10-04T00:00:00.000000000'\n",
            " '2017-10-05T00:00:00.000000000' '2017-10-06T00:00:00.000000000'\n",
            " '2017-10-16T00:00:00.000000000' '2017-10-17T00:00:00.000000000'\n",
            " '2017-10-18T00:00:00.000000000' '2017-10-21T00:00:00.000000000'\n",
            " '2017-10-23T00:00:00.000000000' '2017-10-24T00:00:00.000000000']\n",
            "============================= COLUMN INFO ======================================\n",
            "unique values in column: DATE = 1294\n",
            "\n",
            "\n",
            "\n",
            "========================   PRINT VALUES ========================================\n",
            "column: TRANSACTION DETAILS, \n",
            "values: [u'TRF FROM  Indiaforensic SERVICES' u'FDRL/INTERNAL FUND TRANSFE'\n",
            " u'TRF FRM  Indiaforensic SERVICES' u'INDO GIBL Indiaforensic STL01071'\n",
            " u'INDO GIBL Indiaforensic STL02071' u'INDO GIBL Indiaforensic STL03071'\n",
            " u'INDO GIBL Indiaforensic STL04071' u'INDO GIBL Indiaforensic STL05071'\n",
            " u'INDO GIBL Indiaforensic STL06071' u'INDO GIBL Indiaforensic STL07071'\n",
            " u'INDO GIBL Indiaforensic STL10071' u'INDO GIBL Indiaforensic STL11071'\n",
            " u'INDO GIBL Indiaforensic STL12071' u'INDO GIBL Indiaforensic STL13071'\n",
            " u'INDO GIBL Indiaforensic STL14071' u'INDO GIBL Indiaforensic STL15071'\n",
            " u'INDO GIBL Indiaforensic STL16071' u'INDO GIBL Indiaforensic STL17071'\n",
            " u'INDO GIBL Indiaforensic STL18071' u'INDO GIBL Indiaforensic STL19071']\n",
            "============================= COLUMN INFO ======================================\n",
            "unique values in column: TRANSACTION DETAILS = 44807\n",
            "\n",
            "\n",
            "\n",
            "========================   PRINT VALUES ========================================\n",
            "column: CHQ.NO., \n",
            "values: [        nan 1.00000e+00 2.00000e+00 5.00000e+00 6.00000e+00 4.00000e+00\n",
            " 3.00000e+00 9.00000e+00 7.00000e+00 8.00000e+00 1.00000e+01 8.73777e+05\n",
            " 8.73776e+05 8.73779e+05 8.73780e+05 8.73781e+05 8.73778e+05 8.73733e+05\n",
            " 8.73728e+05 8.73727e+05]\n",
            "============================= COLUMN INFO ======================================\n",
            "unique values in column: CHQ.NO. = 895\n",
            "\n",
            "\n",
            "\n",
            "========================   PRINT VALUES ========================================\n",
            "column: VALUE DATE, \n",
            "values: ['2017-06-29T00:00:00.000000000' '2017-07-05T00:00:00.000000000'\n",
            " '2017-07-18T00:00:00.000000000' '2017-08-01T00:00:00.000000000'\n",
            " '2017-08-16T00:00:00.000000000' '2017-09-06T00:00:00.000000000'\n",
            " '2017-09-25T00:00:00.000000000' '2017-09-26T00:00:00.000000000'\n",
            " '2017-09-27T00:00:00.000000000' '2017-09-28T00:00:00.000000000'\n",
            " '2017-10-03T00:00:00.000000000' '2017-10-04T00:00:00.000000000'\n",
            " '2017-10-05T00:00:00.000000000' '2017-10-06T00:00:00.000000000'\n",
            " '2017-10-16T00:00:00.000000000' '2017-10-17T00:00:00.000000000'\n",
            " '2017-10-18T00:00:00.000000000' '2017-10-21T00:00:00.000000000'\n",
            " '2017-10-23T00:00:00.000000000' '2017-10-24T00:00:00.000000000']\n",
            "============================= COLUMN INFO ======================================\n",
            "unique values in column: VALUE DATE = 1294\n",
            "\n",
            "\n",
            "\n",
            "========================   PRINT VALUES ========================================\n",
            "column: WITHDRAWAL AMT, \n",
            "values: [    nan 133900.  18000.   5000. 195800.  81600.  41800.  98500. 143800.\n",
            " 331650. 129000. 230013. 367900. 108000.  64800. 141000.  61750.  67920.\n",
            "  78100.  35650.]\n",
            "============================= COLUMN INFO ======================================\n",
            "unique values in column: WITHDRAWAL AMT = 20882\n",
            "\n",
            "\n",
            "\n",
            "========================   PRINT VALUES ========================================\n",
            "column: DEPOSIT AMT, \n",
            "values: [1.000000e+06 5.000000e+05 3.000000e+06          nan 1.320000e+03\n",
            " 1.555000e+05 2.027990e+05 2.000000e+05 3.000000e+05 4.000000e+05\n",
            " 9.000000e-01 6.700000e+04 1.170000e+05 1.500000e+05 1.000000e+05\n",
            " 5.000000e+04 6.654900e+02 4.721693e+04 7.500000e+05 1.671630e+03]\n",
            "============================= COLUMN INFO ======================================\n",
            "unique values in column: DEPOSIT AMT = 20146\n",
            "\n",
            "\n",
            "\n",
            "========================   PRINT VALUES ========================================\n",
            "column: BALANCE AMT, \n",
            "values: [1000000. 2000000. 2500000. 5500000. 6000000. 6500000. 7000000. 7500000.\n",
            " 8000000. 8500000. 8366100. 8348100. 8343100. 8147300. 8065700. 8023900.\n",
            " 7925400. 7781600. 7449950. 7320950.]\n",
            "============================= COLUMN INFO ======================================\n",
            "unique values in column: BALANCE AMT = 115171\n",
            "\n",
            "\n",
            "\n",
            "========================   PRINT VALUES ========================================\n",
            "column: ., \n",
            "values: [u'.']\n",
            "============================= COLUMN INFO ======================================\n",
            "unique values in column: . = 1\n",
            "\n",
            "\n",
            "\n"
          ],
          "name": "stdout"
        }
      ]
    },
    {
      "cell_type": "markdown",
      "metadata": {
        "id": "rSdvbY6pgB7U",
        "colab_type": "text"
      },
      "source": [
        "what we discovered from values of the dataframe?\n",
        "    - `Account No` have just 10 differents values the means the dataframe has just 10 account\n",
        "    - `TRANSACTION DETAILS` have more of 40.000 values that means very diferents description to transactions\n",
        "    - for our luck all dates have values \\o/ \n",
        "    \n",
        "we discovered a strange column `.` that has a unique value '.'"
      ]
    },
    {
      "cell_type": "markdown",
      "metadata": {
        "colab_type": "text",
        "id": "v3lwvxFnfE7i"
      },
      "source": [
        "### PREPROCESSING ###"
      ]
    },
    {
      "cell_type": "markdown",
      "metadata": {
        "id": "EyqG50N_gB7X",
        "colab_type": "text"
      },
      "source": [
        "now we start preprocessing our dataframe, in this process we will drop and fill values that is empty to some value"
      ]
    },
    {
      "cell_type": "code",
      "metadata": {
        "id": "HjKcMnc6gB7Z",
        "colab_type": "code",
        "colab": {}
      },
      "source": [
        "dataframe.drop(columns=['TRANSACTION DETAILS', 'CHQ.NO.', '.'], inplace=True); ##drop columns that we not will use\n",
        "for column in dataframe.columns:\n",
        "    if(dataframe[column].isnull().any()):\n",
        "        dataframe[column].fillna(value=dataframe[column].median(), inplace=True) ## filling our nan values with median"
      ],
      "execution_count": 0,
      "outputs": []
    },
    {
      "cell_type": "code",
      "metadata": {
        "id": "wR3jJLKagB7h",
        "colab_type": "code",
        "colab": {
          "base_uri": "https://localhost:8080/",
          "height": 204
        },
        "outputId": "a0396efd-8b47-4970-fc60-cc6c254d858c"
      },
      "source": [
        "dataframe.info() ### printing now our values processed"
      ],
      "execution_count": 115,
      "outputs": [
        {
          "output_type": "stream",
          "text": [
            "<class 'pandas.core.frame.DataFrame'>\n",
            "RangeIndex: 116201 entries, 0 to 116200\n",
            "Data columns (total 6 columns):\n",
            "Account No        116201 non-null object\n",
            "DATE              116201 non-null datetime64[ns]\n",
            "VALUE DATE        116201 non-null datetime64[ns]\n",
            "WITHDRAWAL AMT    116201 non-null float64\n",
            "DEPOSIT AMT       116201 non-null float64\n",
            "BALANCE AMT       116201 non-null float64\n",
            "dtypes: datetime64[ns](2), float64(3), object(1)\n",
            "memory usage: 5.3+ MB\n"
          ],
          "name": "stdout"
        }
      ]
    },
    {
      "cell_type": "markdown",
      "metadata": {
        "id": "UP6WtKY_gB7m",
        "colab_type": "text"
      },
      "source": [
        "now how you can see our dataframe has all rows filled.\n",
        "we removed the columns that have fews values and not means nothing for our objectives.\n",
        "we filled the empty values with median that is the 'the median value of a range', we keep the `Account No` column because we need predict what client is a good client.\n",
        "\n",
        "Our Preprocessing its not finished yet, we need now transform the `Account No` and do a couple of things. "
      ]
    },
    {
      "cell_type": "code",
      "metadata": {
        "id": "hpmkP1gngB7n",
        "colab_type": "code",
        "colab": {}
      },
      "source": [
        "enc = OrdinalEncoder()\n",
        "\n",
        "def categorical_to_ordinal(categorical_values, serie): ## method to convert categorical string to categorical integer\n",
        "    enc.fit(categorical_values)\n",
        "    serie_reshape = np.reshape(serie.to_numpy(), (-1, 1))\n",
        "    return enc.transform(serie_reshape).flatten()"
      ],
      "execution_count": 0,
      "outputs": []
    },
    {
      "cell_type": "code",
      "metadata": {
        "id": "c6HBL7PdgB7r",
        "colab_type": "code",
        "colab": {}
      },
      "source": [
        "accounts_label = dataframe['Account No'].unique()\n",
        "accounts = dataframe['Account No']\n",
        "#accounts_ordinal = categoricalToOrdinal([[u\"409000611074'\"],[u\"409000493201'\"], [u\"409000425051'\"],[u\"409000405747'\"], [u\"409000438611'\"], [u\"409000493210'\"],[u\"409000438620'\"], [u\"1196711'\"], [u\"1196428'\"], [u\"409000362497'\"]], accounts);\n",
        "accounts_ordinal = categorical_to_ordinal(accounts_label.reshape(-1,1), accounts);\n",
        "dataframe['client_class'] = pd.Series(accounts_ordinal)"
      ],
      "execution_count": 0,
      "outputs": []
    },
    {
      "cell_type": "code",
      "metadata": {
        "id": "GflAM1xFgB7u",
        "colab_type": "code",
        "colab": {}
      },
      "source": [
        "epoch = datetime.datetime.utcfromtimestamp(0)\n",
        "\n",
        "def unix_time_millis(dt): ## method to convert timestamp in milliseconds\n",
        "    return (dt - epoch).total_seconds() * 1000.0"
      ],
      "execution_count": 0,
      "outputs": []
    },
    {
      "cell_type": "code",
      "metadata": {
        "id": "3v1YhwYMgB7x",
        "colab_type": "code",
        "colab": {}
      },
      "source": [
        "dataframe['DATE'] = dataframe['DATE'].apply(unix_time_millis)\n",
        "dataframe['VALUE DATE'] = dataframe['VALUE DATE'].apply(unix_time_millis)"
      ],
      "execution_count": 0,
      "outputs": []
    },
    {
      "cell_type": "code",
      "metadata": {
        "id": "YAj4Z-0BgB70",
        "colab_type": "code",
        "colab": {}
      },
      "source": [
        "def min_max_scaler(data): ## method to scaler our values\n",
        "    scaler = MinMaxScaler()\n",
        "    scaler.fit(data.to_numpy().reshape(-1, 1))\n",
        "    transformed_data = scaler.transform(data.to_numpy().reshape(-1, 1))\n",
        "    return transformed_data"
      ],
      "execution_count": 0,
      "outputs": []
    },
    {
      "cell_type": "code",
      "metadata": {
        "scrolled": true,
        "id": "9oByOZy6gB74",
        "colab_type": "code",
        "colab": {}
      },
      "source": [
        "dataframe['DATE'] = min_max_scaler(dataframe['DATE'])\n",
        "dataframe['VALUE DATE'] = min_max_scaler(dataframe['VALUE DATE'])\n",
        "dataframe['WITHDRAWAL AMT'] = min_max_scaler(dataframe['WITHDRAWAL AMT'])\n",
        "dataframe['WITHDRAWAL AMT'] = min_max_scaler(dataframe['WITHDRAWAL AMT'])\n",
        "dataframe['DEPOSIT AMT'] = min_max_scaler(dataframe['DEPOSIT AMT'])\n",
        "dataframe['BALANCE AMT'] = min_max_scaler(dataframe['BALANCE AMT']); ## OMIT"
      ],
      "execution_count": 0,
      "outputs": []
    },
    {
      "cell_type": "markdown",
      "metadata": {
        "id": "O-Si-6UTgB77",
        "colab_type": "text"
      },
      "source": [
        "we create 3 functions to transform our data:\n",
        "    - `categorical_to_ordinal` we need transform the string value of `Account No` to a categorical numeric value and this method give this power to us.\n",
        "    - `unix_time_millis`  a method to convert our timestamp to milliseconds(use just if our NN don't recognize timestamp value).\n",
        "    - `min_max_scaler` different range of values maybe bias our model (grandient not converge to global minimum), also raise model perfomance.\n",
        "    \n",
        "now lets see how our dataframe stayed"
      ]
    },
    {
      "cell_type": "code",
      "metadata": {
        "id": "_BnT4csTgB7_",
        "colab_type": "code",
        "colab": {}
      },
      "source": [
        "dataframe.drop(columns=['Account No'], inplace=True); ##drop unnecessary column"
      ],
      "execution_count": 0,
      "outputs": []
    },
    {
      "cell_type": "code",
      "metadata": {
        "scrolled": false,
        "id": "X2Nv21NjgB8K",
        "colab_type": "code",
        "colab": {
          "base_uri": "https://localhost:8080/",
          "height": 204
        },
        "outputId": "3f626209-3ff6-47d4-b70a-6f2fdea51105"
      },
      "source": [
        "dataframe.head()"
      ],
      "execution_count": 123,
      "outputs": [
        {
          "output_type": "execute_result",
          "data": {
            "text/html": [
              "<div>\n",
              "<style scoped>\n",
              "    .dataframe tbody tr th:only-of-type {\n",
              "        vertical-align: middle;\n",
              "    }\n",
              "\n",
              "    .dataframe tbody tr th {\n",
              "        vertical-align: top;\n",
              "    }\n",
              "\n",
              "    .dataframe thead th {\n",
              "        text-align: right;\n",
              "    }\n",
              "</style>\n",
              "<table border=\"1\" class=\"dataframe\">\n",
              "  <thead>\n",
              "    <tr style=\"text-align: right;\">\n",
              "      <th></th>\n",
              "      <th>DATE</th>\n",
              "      <th>VALUE DATE</th>\n",
              "      <th>WITHDRAWAL AMT</th>\n",
              "      <th>DEPOSIT AMT</th>\n",
              "      <th>BALANCE AMT</th>\n",
              "      <th>client_class</th>\n",
              "    </tr>\n",
              "  </thead>\n",
              "  <tbody>\n",
              "    <tr>\n",
              "      <th>0</th>\n",
              "      <td>0.597113</td>\n",
              "      <td>0.597113</td>\n",
              "      <td>0.000102</td>\n",
              "      <td>0.001836</td>\n",
              "      <td>0.996348</td>\n",
              "      <td>9.0</td>\n",
              "    </tr>\n",
              "    <tr>\n",
              "      <th>1</th>\n",
              "      <td>0.601050</td>\n",
              "      <td>0.601050</td>\n",
              "      <td>0.000102</td>\n",
              "      <td>0.001836</td>\n",
              "      <td>0.996835</td>\n",
              "      <td>9.0</td>\n",
              "    </tr>\n",
              "    <tr>\n",
              "      <th>2</th>\n",
              "      <td>0.609580</td>\n",
              "      <td>0.609580</td>\n",
              "      <td>0.000102</td>\n",
              "      <td>0.000918</td>\n",
              "      <td>0.997078</td>\n",
              "      <td>9.0</td>\n",
              "    </tr>\n",
              "    <tr>\n",
              "      <th>3</th>\n",
              "      <td>0.618766</td>\n",
              "      <td>0.618766</td>\n",
              "      <td>0.000102</td>\n",
              "      <td>0.005507</td>\n",
              "      <td>0.998539</td>\n",
              "      <td>9.0</td>\n",
              "    </tr>\n",
              "    <tr>\n",
              "      <th>4</th>\n",
              "      <td>0.628609</td>\n",
              "      <td>0.628609</td>\n",
              "      <td>0.000102</td>\n",
              "      <td>0.000918</td>\n",
              "      <td>0.998783</td>\n",
              "      <td>9.0</td>\n",
              "    </tr>\n",
              "  </tbody>\n",
              "</table>\n",
              "</div>"
            ],
            "text/plain": [
              "       DATE  VALUE DATE  WITHDRAWAL AMT  DEPOSIT AMT  BALANCE AMT  client_class\n",
              "0  0.597113    0.597113        0.000102     0.001836     0.996348           9.0\n",
              "1  0.601050    0.601050        0.000102     0.001836     0.996835           9.0\n",
              "2  0.609580    0.609580        0.000102     0.000918     0.997078           9.0\n",
              "3  0.618766    0.618766        0.000102     0.005507     0.998539           9.0\n",
              "4  0.628609    0.628609        0.000102     0.000918     0.998783           9.0"
            ]
          },
          "metadata": {
            "tags": []
          },
          "execution_count": 123
        }
      ]
    },
    {
      "cell_type": "markdown",
      "metadata": {
        "id": "MQQCVGJugB8U",
        "colab_type": "text"
      },
      "source": [
        "now is time to split our data \\o/\n",
        "our label will be `client_class`"
      ]
    },
    {
      "cell_type": "code",
      "metadata": {
        "id": "xLDUhz9DgB8V",
        "colab_type": "code",
        "colab": {}
      },
      "source": [
        "y = dataframe.pop('WITHDRAWAL AMT') ##get client_class\n",
        "X = dataframe"
      ],
      "execution_count": 0,
      "outputs": []
    },
    {
      "cell_type": "code",
      "metadata": {
        "id": "xtEVImhggB8Z",
        "colab_type": "code",
        "colab": {}
      },
      "source": [
        "X_train, X_test, y_train, y_test = train_test_split(X, y, test_size=0.2, random_state=42) ## get test data\n",
        "X_train, X_val, y_train, y_val = train_test_split(X_train, y_train, test_size=0.2, random_state=42) ## get val data"
      ],
      "execution_count": 0,
      "outputs": []
    },
    {
      "cell_type": "code",
      "metadata": {
        "id": "T1f22K-TgB8c",
        "colab_type": "code",
        "colab": {}
      },
      "source": [
        "y_train = y_train.to_numpy()\n",
        "y_val = y_val.to_numpy()\n",
        "y_test = y_test.to_numpy()\n",
        "\n",
        "y_train = y_train.reshape(-1, 1)\n",
        "y_val = y_val.reshape(-1, 1)\n",
        "y_test = y_test.reshape(-1, 1)\n",
        "\n",
        "X_train = X_train.to_numpy().reshape(-1, 5, 1)\n",
        "X_val = X_val.to_numpy().reshape(-1, 5, 1)\n",
        "X_test = X_test.to_numpy().reshape(-1, 5, 1)"
      ],
      "execution_count": 0,
      "outputs": []
    },
    {
      "cell_type": "markdown",
      "metadata": {
        "id": "tAmvHK97gB8f",
        "colab_type": "text"
      },
      "source": [
        "preprocessing done! :D"
      ]
    },
    {
      "cell_type": "markdown",
      "metadata": {
        "id": "J3hkS12lgB8g",
        "colab_type": "text"
      },
      "source": [
        "### MODEL ###"
      ]
    },
    {
      "cell_type": "markdown",
      "metadata": {
        "id": "bzdc79fugB8h",
        "colab_type": "text"
      },
      "source": [
        "now with our data finish let's start building our model"
      ]
    },
    {
      "cell_type": "code",
      "metadata": {
        "id": "0_KepSvPgB8i",
        "colab_type": "code",
        "colab": {}
      },
      "source": [
        "## initializing our hyperparams\n",
        "n_inputs = 5\n",
        "n_neurons = 200\n",
        "n_outputs = 1\n",
        "n_layers = 2\n",
        "learning_rate = 0.00001\n",
        "batch_size = 128\n",
        "n_epochs = 100\n",
        "train_set_size = X_train.shape[0]\n",
        "test_set_size = X_test.shape[0]\n",
        "\n",
        "input_X = tf.placeholder(tf.float64, [None, n_inputs, 1])\n",
        "input_y = tf.placeholder(tf.float64, [None, n_outputs])"
      ],
      "execution_count": 0,
      "outputs": []
    },
    {
      "cell_type": "code",
      "metadata": {
        "id": "zVA5iVztgB8k",
        "colab_type": "code",
        "colab": {}
      },
      "source": [
        "index_in_epoch = 0;\n",
        "perm_array = np.arange(X_train.shape[0])\n",
        "np.random.shuffle(perm_array)\n",
        "\n",
        "def get_next_batch(batch_size): ## function to batch our data\n",
        "    global index_in_epoch, X_train, perm_array\n",
        "    start = index_in_epoch\n",
        "    index_in_epoch += batch_size\n",
        "    if index_in_epoch > X_train.shape[0]:\n",
        "        np.random.shuffle(perm_array)\n",
        "        start = 0\n",
        "        index_in_epoch = batch_size\n",
        "    end = index_in_epoch\n",
        "    return X_train[perm_array[start:end]], y_train[perm_array[start:end]]"
      ],
      "execution_count": 0,
      "outputs": []
    },
    {
      "cell_type": "code",
      "metadata": {
        "id": "tVjuasWxgB8p",
        "colab_type": "code",
        "colab": {}
      },
      "source": [
        "layers = [tf.contrib.rnn.GRUCell(num_units=n_neurons, activation=tf.nn.relu) ## with my tests, ReLU fit better\n",
        "          for layer in range(n_layers)] # 2 layer 200 neurons\n",
        "\n",
        "multi_layer = tf.contrib.rnn.MultiRNNCell(layers)\n",
        "rnn_outputs, states = tf.nn.dynamic_rnn(multi_layer, input_X, dtype=tf.float64)\n",
        "stacked_rnn_outputs = tf.reshape(rnn_outputs, [-1, n_neurons])\n",
        "stacked_outputs = tf.layers.dense(stacked_rnn_outputs, n_outputs)\n",
        "outputs = tf.reshape(stacked_outputs, [-1, n_inputs, n_outputs])\n",
        "outputs = outputs[:, n_inputs-1, :] "
      ],
      "execution_count": 0,
      "outputs": []
    },
    {
      "cell_type": "code",
      "metadata": {
        "id": "-x2PZg7HgB8s",
        "colab_type": "code",
        "colab": {}
      },
      "source": [
        "loss = tf.reduce_mean(tf.square(outputs - input_y)) # MSE\n",
        "optimizer = tf.train.AdamOptimizer(learning_rate=learning_rate).minimize(loss) # GRADIENT"
      ],
      "execution_count": 0,
      "outputs": []
    },
    {
      "cell_type": "code",
      "metadata": {
        "scrolled": true,
        "id": "zybJVrcPgB8x",
        "colab_type": "code",
        "colab": {
          "base_uri": "https://localhost:8080/",
          "height": 1000
        },
        "outputId": "9af9f5ea-9cdf-4086-b528-0a3ef8585ff1"
      },
      "source": [
        "training_loss_list = []\n",
        "valid_loss_list = []\n",
        "\n",
        "with tf.Session() as sess:\n",
        "    sess.run(tf.global_variables_initializer())\n",
        "  \n",
        "    for iteration in range(n_epochs):\n",
        "        x_batch, y_batch = get_next_batch(batch_size)\n",
        "        sess.run(optimizer, feed_dict={input_X: x_batch, input_y:y_batch})\n",
        "        \n",
        "        train_loss = loss.eval(feed_dict={input_X: X_train, input_y: y_train})\n",
        "        valid_loss = loss.eval(feed_dict={input_X: X_val, input_y: y_val})\n",
        "        \n",
        "        training_loss_list.append(train_loss)\n",
        "        valid_loss_list.append(valid_loss)\n",
        "        \n",
        "        print('Epoch {0}: train loss = {1:.6f} valid loss = {2:.6f}'.format(iteration + 1, train_loss, valid_loss))\n",
        "\n",
        "    y_test_pred = sess.run(outputs, feed_dict={input_X: X_test})"
      ],
      "execution_count": 131,
      "outputs": [
        {
          "output_type": "stream",
          "text": [
            "Epoch 1: train loss = 0.000769 valid loss = 0.000809\n",
            "Epoch 2: train loss = 0.000753 valid loss = 0.000793\n",
            "Epoch 3: train loss = 0.000737 valid loss = 0.000777\n",
            "Epoch 4: train loss = 0.000721 valid loss = 0.000762\n",
            "Epoch 5: train loss = 0.000706 valid loss = 0.000747\n",
            "Epoch 6: train loss = 0.000691 valid loss = 0.000732\n",
            "Epoch 7: train loss = 0.000677 valid loss = 0.000717\n",
            "Epoch 8: train loss = 0.000662 valid loss = 0.000703\n",
            "Epoch 9: train loss = 0.000648 valid loss = 0.000689\n",
            "Epoch 10: train loss = 0.000635 valid loss = 0.000675\n",
            "Epoch 11: train loss = 0.000621 valid loss = 0.000661\n",
            "Epoch 12: train loss = 0.000608 valid loss = 0.000648\n",
            "Epoch 13: train loss = 0.000596 valid loss = 0.000636\n",
            "Epoch 14: train loss = 0.000583 valid loss = 0.000623\n",
            "Epoch 15: train loss = 0.000571 valid loss = 0.000611\n",
            "Epoch 16: train loss = 0.000559 valid loss = 0.000599\n",
            "Epoch 17: train loss = 0.000547 valid loss = 0.000588\n",
            "Epoch 18: train loss = 0.000536 valid loss = 0.000576\n",
            "Epoch 19: train loss = 0.000525 valid loss = 0.000565\n",
            "Epoch 20: train loss = 0.000515 valid loss = 0.000555\n",
            "Epoch 21: train loss = 0.000505 valid loss = 0.000545\n",
            "Epoch 22: train loss = 0.000495 valid loss = 0.000535\n",
            "Epoch 23: train loss = 0.000486 valid loss = 0.000525\n",
            "Epoch 24: train loss = 0.000476 valid loss = 0.000516\n",
            "Epoch 25: train loss = 0.000467 valid loss = 0.000507\n",
            "Epoch 26: train loss = 0.000458 valid loss = 0.000498\n",
            "Epoch 27: train loss = 0.000449 valid loss = 0.000489\n",
            "Epoch 28: train loss = 0.000441 valid loss = 0.000481\n",
            "Epoch 29: train loss = 0.000433 valid loss = 0.000473\n",
            "Epoch 30: train loss = 0.000425 valid loss = 0.000465\n",
            "Epoch 31: train loss = 0.000418 valid loss = 0.000457\n",
            "Epoch 32: train loss = 0.000411 valid loss = 0.000450\n",
            "Epoch 33: train loss = 0.000404 valid loss = 0.000443\n",
            "Epoch 34: train loss = 0.000397 valid loss = 0.000437\n",
            "Epoch 35: train loss = 0.000391 valid loss = 0.000430\n",
            "Epoch 36: train loss = 0.000385 valid loss = 0.000424\n",
            "Epoch 37: train loss = 0.000379 valid loss = 0.000419\n",
            "Epoch 38: train loss = 0.000374 valid loss = 0.000413\n",
            "Epoch 39: train loss = 0.000369 valid loss = 0.000408\n",
            "Epoch 40: train loss = 0.000364 valid loss = 0.000403\n",
            "Epoch 41: train loss = 0.000359 valid loss = 0.000399\n",
            "Epoch 42: train loss = 0.000355 valid loss = 0.000394\n",
            "Epoch 43: train loss = 0.000351 valid loss = 0.000390\n",
            "Epoch 44: train loss = 0.000347 valid loss = 0.000386\n",
            "Epoch 45: train loss = 0.000343 valid loss = 0.000382\n",
            "Epoch 46: train loss = 0.000339 valid loss = 0.000378\n",
            "Epoch 47: train loss = 0.000336 valid loss = 0.000375\n",
            "Epoch 48: train loss = 0.000332 valid loss = 0.000371\n",
            "Epoch 49: train loss = 0.000329 valid loss = 0.000368\n",
            "Epoch 50: train loss = 0.000326 valid loss = 0.000365\n",
            "Epoch 51: train loss = 0.000323 valid loss = 0.000362\n",
            "Epoch 52: train loss = 0.000320 valid loss = 0.000359\n",
            "Epoch 53: train loss = 0.000318 valid loss = 0.000357\n",
            "Epoch 54: train loss = 0.000315 valid loss = 0.000354\n",
            "Epoch 55: train loss = 0.000313 valid loss = 0.000352\n",
            "Epoch 56: train loss = 0.000311 valid loss = 0.000350\n",
            "Epoch 57: train loss = 0.000309 valid loss = 0.000348\n",
            "Epoch 58: train loss = 0.000307 valid loss = 0.000346\n",
            "Epoch 59: train loss = 0.000305 valid loss = 0.000344\n",
            "Epoch 60: train loss = 0.000303 valid loss = 0.000342\n",
            "Epoch 61: train loss = 0.000302 valid loss = 0.000340\n",
            "Epoch 62: train loss = 0.000300 valid loss = 0.000339\n",
            "Epoch 63: train loss = 0.000299 valid loss = 0.000337\n",
            "Epoch 64: train loss = 0.000297 valid loss = 0.000336\n",
            "Epoch 65: train loss = 0.000296 valid loss = 0.000335\n",
            "Epoch 66: train loss = 0.000295 valid loss = 0.000334\n",
            "Epoch 67: train loss = 0.000294 valid loss = 0.000333\n",
            "Epoch 68: train loss = 0.000293 valid loss = 0.000332\n",
            "Epoch 69: train loss = 0.000292 valid loss = 0.000331\n",
            "Epoch 70: train loss = 0.000291 valid loss = 0.000330\n",
            "Epoch 71: train loss = 0.000291 valid loss = 0.000329\n",
            "Epoch 72: train loss = 0.000290 valid loss = 0.000329\n",
            "Epoch 73: train loss = 0.000289 valid loss = 0.000328\n",
            "Epoch 74: train loss = 0.000289 valid loss = 0.000327\n",
            "Epoch 75: train loss = 0.000288 valid loss = 0.000327\n",
            "Epoch 76: train loss = 0.000288 valid loss = 0.000326\n",
            "Epoch 77: train loss = 0.000287 valid loss = 0.000326\n",
            "Epoch 78: train loss = 0.000287 valid loss = 0.000325\n",
            "Epoch 79: train loss = 0.000286 valid loss = 0.000325\n",
            "Epoch 80: train loss = 0.000286 valid loss = 0.000324\n",
            "Epoch 81: train loss = 0.000285 valid loss = 0.000324\n",
            "Epoch 82: train loss = 0.000285 valid loss = 0.000324\n",
            "Epoch 83: train loss = 0.000285 valid loss = 0.000323\n",
            "Epoch 84: train loss = 0.000285 valid loss = 0.000323\n",
            "Epoch 85: train loss = 0.000284 valid loss = 0.000323\n",
            "Epoch 86: train loss = 0.000284 valid loss = 0.000323\n",
            "Epoch 87: train loss = 0.000284 valid loss = 0.000322\n",
            "Epoch 88: train loss = 0.000284 valid loss = 0.000322\n",
            "Epoch 89: train loss = 0.000283 valid loss = 0.000322\n",
            "Epoch 90: train loss = 0.000283 valid loss = 0.000322\n",
            "Epoch 91: train loss = 0.000283 valid loss = 0.000321\n",
            "Epoch 92: train loss = 0.000283 valid loss = 0.000321\n",
            "Epoch 93: train loss = 0.000283 valid loss = 0.000321\n",
            "Epoch 94: train loss = 0.000282 valid loss = 0.000321\n",
            "Epoch 95: train loss = 0.000282 valid loss = 0.000321\n",
            "Epoch 96: train loss = 0.000282 valid loss = 0.000320\n",
            "Epoch 97: train loss = 0.000282 valid loss = 0.000320\n",
            "Epoch 98: train loss = 0.000282 valid loss = 0.000320\n",
            "Epoch 99: train loss = 0.000282 valid loss = 0.000320\n",
            "Epoch 100: train loss = 0.000281 valid loss = 0.000320\n"
          ],
          "name": "stdout"
        }
      ]
    },
    {
      "cell_type": "markdown",
      "metadata": {
        "id": "8ldK-ijMgB87",
        "colab_type": "text"
      },
      "source": [
        "with our model trained its time to plot the loss for each epoch"
      ]
    },
    {
      "cell_type": "code",
      "metadata": {
        "scrolled": false,
        "id": "t7lwXj5HgB89",
        "colab_type": "code",
        "colab": {
          "base_uri": "https://localhost:8080/",
          "height": 283
        },
        "outputId": "bac330a6-1b2d-4ff7-b967-72816368d2c9"
      },
      "source": [
        "plt.figure(figsize=(12,4))\n",
        "plt.subplot(1,2,1)\n",
        "plt.plot(training_loss_list, color='blue', label='train loss')\n",
        "plt.plot(valid_loss_list, color='red', label='validation loss')\n",
        "plt.ylabel('Loss')\n",
        "plt.xlabel('Epochs')\n",
        "plt.subplot(1,2,2)\n",
        "plt.plot(y_test_pred[0:100, -1], color='blue', label='Predicted') #its much data will printing just 100 entries\n",
        "plt.plot(y_test[0:100, -1], color='red', label='True')\n",
        "plt.ylabel('WITHDRAW AMT')\n",
        "plt.xlabel('Epochs')\n",
        "plt.legend()\n",
        "plt.show()"
      ],
      "execution_count": 132,
      "outputs": [
        {
          "output_type": "display_data",
          "data": {
            "image/png": "[encoded data removed]",
            "text/plain": [
              "<Figure size 864x288 with 2 Axes>"
            ]
          },
          "metadata": {
            "tags": []
          }
        }
      ]
    },
    {
      "cell_type": "markdown",
      "metadata": {
        "id": "BWFWRDBvgB9C",
        "colab_type": "text"
      },
      "source": [
        "like you can see our loss is decreasing over time it is good notices for us"
      ]
    },
    {
      "cell_type": "markdown",
      "metadata": {
        "id": "vVor4r3fzF4Y",
        "colab_type": "text"
      },
      "source": [
        "the predictions has been done too, so the next step is mount our data again\n",
        "to visualize our result and answer the questions"
      ]
    },
    {
      "cell_type": "code",
      "metadata": {
        "id": "B6KEz2KLgB9I",
        "colab_type": "code",
        "colab": {}
      },
      "source": [
        "X_test = X_test.reshape(-1, 5)\n",
        "results = pd.DataFrame({'Date': X_test[:, 0],\n",
        "                        'VALUE DATE': X_test[:, 1],\n",
        "                        'DEPOSIT AMT': X_test[:, 2],\n",
        "                        'BALANCE AMT': X_test[:, 3],\n",
        "                        'client_class': X_test[:, 4],\n",
        "                        'WITHDRAWAL AMT': y_test_pred.reshape(-1,)\n",
        "                       })\n",
        "\n",
        "most_withdrawal_accounts_value = results.sort_values(by='WITHDRAWAL AMT', ascending=False).iloc[0:9]"
      ],
      "execution_count": 0,
      "outputs": []
    },
    {
      "cell_type": "markdown",
      "metadata": {
        "id": "Lee1783jgB9N",
        "colab_type": "text"
      },
      "source": [
        "like previosly above, we transform all `Account No` in a interger value and store it in a column called `client_class` we see that the most evaluated client or with most potential client is the client with `client_class` column with value 0 but why that client is considered with most potential?\n",
        "\n",
        "we presume that column `WITHDRAWAL AMT` its not so about a CASH WITHDRAWAL, like column `TRANSACTION DETAILS` show to us, the dataset have a resume about all transfers in the bank this means all payment, deposit etc... in resume: the client with label 0 is taking money from your account and investing in another account he is our 'BIG FISH' but, what account is the column `client_class` with value 0? its we find in follow."
      ]
    },
    {
      "cell_type": "code",
      "metadata": {
        "id": "QiAe8mHDgB9P",
        "colab_type": "code",
        "colab": {
          "base_uri": "https://localhost:8080/",
          "height": 34
        },
        "outputId": "e9092c3e-4f5e-4d2f-90f1-21af36db9cfa"
      },
      "source": [
        "client_class = most_withdrawal_accounts_value.iloc[0]['client_class'] ## GET CLASS OF OUR BIG FISH\n",
        "\n",
        "for idx in range(len(accounts_label)):\n",
        "    if(idx == client_class):\n",
        "        print(accounts_label[idx])"
      ],
      "execution_count": 134,
      "outputs": [
        {
          "output_type": "stream",
          "text": [
            "409000611074'\n"
          ],
          "name": "stdout"
        }
      ]
    },
    {
      "cell_type": "markdown",
      "metadata": {
        "id": "32cjcVh3gB9U",
        "colab_type": "text"
      },
      "source": [
        "Our BIG FISH is the client with `Account No` = `409000611074'`. \n",
        "its time to approve to her a new line of credit and give a limitless platinum card. \\o/ "
      ]
    },
    {
      "cell_type": "markdown",
      "metadata": {
        "id": "HmAbV4wzgB9V",
        "colab_type": "text"
      },
      "source": [
        "### THANKS ###"
      ]
    },
    {
      "cell_type": "markdown",
      "metadata": {
        "id": "rlPWNTLYgB9W",
        "colab_type": "text"
      },
      "source": [
        "i would like to thank the all team of I.A from Stefanini and specially Paulo Cotta for offering this opportunity.\n",
        "\n",
        "in this challenge i learned much about the state of art of machine learning, i hope work together with all you guys soon.\n",
        "\n",
        "many thanks!!!"
      ]
    },
    {
      "cell_type": "markdown",
      "metadata": {
        "id": "m4uDPKsSgB9Y",
        "colab_type": "text"
      },
      "source": [
        "# SEND TO #\n",
        "### Pvcotta@stefanini.com ###"
      ]
    }
  ]
}