{
  "nbformat": 4,
  "nbformat_minor": 0,
  "metadata": {
    "colab": {
      "name": "lstm_gru_with_tensorflow.ipynb",
      "version": "0.3.2",
      "provenance": [],
      "collapsed_sections": [],
      "toc_visible": true,
      "include_colab_link": true
    },
    "kernelspec": {
      "name": "python3",
      "display_name": "Python 3"
    }
  },
  "cells": [
    {
      "cell_type": "markdown",
      "metadata": {
        "id": "view-in-github",
        "colab_type": "text"
      },
      "source": [
        "<a href=\"https://colab.research.google.com/github/asafe-eduardo/colab/blob/master/rnn_from_scratch/lstm_gru_with_tensorflow.ipynb\" target=\"_parent\"><img src=\"https://colab.research.google.com/assets/colab-badge.svg\" alt=\"Open In Colab\"/></a>"
      ]
    },
    {
      "cell_type": "markdown",
      "metadata": {
        "id": "Vb94M2tHXpI9",
        "colab_type": "text"
      },
      "source": [
        "### IMPORTS"
      ]
    },
    {
      "cell_type": "code",
      "metadata": {
        "id": "BVMZZqQiSTxW",
        "colab_type": "code",
        "colab": {}
      },
      "source": [
        "import numpy as np\n",
        "import pandas as pd\n",
        "import math\n",
        "import sklearn\n",
        "import sklearn.preprocessing\n",
        "import datetime\n",
        "import os\n",
        "import matplotlib.pyplot as plt\n",
        "import tensorflow as tf"
      ],
      "execution_count": 0,
      "outputs": []
    },
    {
      "cell_type": "markdown",
      "metadata": {
        "id": "v3lwvxFnfE7i",
        "colab_type": "text"
      },
      "source": [
        "### PREPROCESSING ###"
      ]
    },
    {
      "cell_type": "code",
      "metadata": {
        "id": "WzQYzMAOXvO6",
        "colab_type": "code",
        "colab": {}
      },
      "source": [
        "def normalize_values(data):\n",
        "  scaler = sklearn.preprocessing.MinMaxScaler()\n",
        "  return scaler.fit_transform(data.values.reshape(-1,1))"
      ],
      "execution_count": 0,
      "outputs": []
    },
    {
      "cell_type": "code",
      "metadata": {
        "id": "v1nKR-NVegVg",
        "colab_type": "code",
        "colab": {}
      },
      "source": [
        "dataframe = pd.read_csv('RELIANCE.NS.csv', index_col = 0)\n",
        "df_stock = dataframe.copy()\n",
        "df_stock = df_stock.dropna()\n",
        "df_stock = df_stock[['Open', 'High', 'Low', 'Close']]"
      ],
      "execution_count": 0,
      "outputs": []
    },
    {
      "cell_type": "code",
      "metadata": {
        "id": "LiH5rTqjg06G",
        "colab_type": "code",
        "colab": {}
      },
      "source": [
        "df_stock['Open'] = normalize_values(df_stock['Open'])\n",
        "df_stock['High'] = normalize_values(df_stock['High'])\n",
        "df_stock['Low'] = normalize_values(df_stock['Low'])\n",
        "df_stock['Close'] = normalize_values(df_stock['Close'])"
      ],
      "execution_count": 0,
      "outputs": []
    },
    {
      "cell_type": "markdown",
      "metadata": {
        "id": "h5KMjEp6qVNS",
        "colab_type": "text"
      },
      "source": [
        "### LOAD DATA ###"
      ]
    },
    {
      "cell_type": "code",
      "metadata": {
        "id": "lSVIHeGkh4IG",
        "colab_type": "code",
        "colab": {}
      },
      "source": [
        "valid_set_size_percentage = 20\n",
        "test_set_size_percentage = 20\n",
        "seq_len = 20\n",
        "\n",
        "def load_data(stock, seq_len):\n",
        "  data_raw = stock.values\n",
        "  data = []\n",
        "  for index in range(len(data_raw) - seq_len):\n",
        "    data.append(data_raw[index: index+seq_len])\n",
        "  data = np.array(data)\n",
        "  \n",
        "  valid_set_size = int(np.round(valid_set_size_percentage/100*data.shape[0]))\n",
        "  test_set_size = int(np.round(test_set_size_percentage/100*data.shape[0]))\n",
        "  train_set_size = data.shape[0] - (valid_set_size + test_set_size)\n",
        "  \n",
        "  x_train = data[:train_set_size, :-1, :]\n",
        "  y_train = data[:train_set_size, -1, :]\n",
        "  x_valid = data[train_set_size:train_set_size+valid_set_size,:-1, :]\n",
        "  y_valid = data[train_set_size:train_set_size+valid_set_size,-1,:]\n",
        "  x_test = data[train_set_size+valid_set_size:, :-1, :]\n",
        "  y_test = data[train_set_size+valid_set_size:,-1,:]\n",
        "  return [x_train, y_train, x_valid,y_valid,x_test,y_test]"
      ],
      "execution_count": 0,
      "outputs": []
    },
    {
      "cell_type": "markdown",
      "metadata": {
        "id": "G2jfONEdXXPW",
        "colab_type": "text"
      },
      "source": [
        "### splitting"
      ]
    },
    {
      "cell_type": "code",
      "metadata": {
        "id": "pUv0WoNctSF5",
        "colab_type": "code",
        "colab": {}
      },
      "source": [
        "x_train, y_train, x_valid, y_valid, x_test, y_test = load_data(df_stock, seq_len)"
      ],
      "execution_count": 0,
      "outputs": []
    },
    {
      "cell_type": "markdown",
      "metadata": {
        "id": "Eh9elL2IvpuW",
        "colab_type": "text"
      },
      "source": [
        "### MODEL ###"
      ]
    },
    {
      "cell_type": "markdown",
      "metadata": {
        "id": "193r8uYgXgyx",
        "colab_type": "text"
      },
      "source": [
        "### initializing variables"
      ]
    },
    {
      "cell_type": "code",
      "metadata": {
        "id": "IBy4_qVzuXV8",
        "colab_type": "code",
        "colab": {}
      },
      "source": [
        "n_steps = seq_len-1\n",
        "n_inputs = 4\n",
        "n_neurons = 200\n",
        "n_outputs = 4\n",
        "n_layers = 2\n",
        "learning_rate = 0.001\n",
        "batch_size = 50\n",
        "n_epochs = 100\n",
        "train_set_size = x_train.shape[0]\n",
        "test_set_size = x_test.shape[0]\n",
        "tf.reset_default_graph()\n",
        "X = tf.placeholder(tf.float32, [None, n_steps, n_inputs])\n",
        "y = tf.placeholder(tf.float32, [None, n_outputs])"
      ],
      "execution_count": 0,
      "outputs": []
    },
    {
      "cell_type": "code",
      "metadata": {
        "id": "kmKGCmTjzb29",
        "colab_type": "code",
        "colab": {}
      },
      "source": [
        "index_in_epoch = 0;\n",
        "perm_array = np.arange(x_train.shape[0])\n",
        "np.random.shuffle(perm_array)\n",
        "\n",
        "def get_next_batch(batch_size):\n",
        "  global index_in_epoch, x_train, perm_array\n",
        "  start = index_in_epoch\n",
        "  index_in_epoch += batch_size\n",
        "  if index_in_epoch > x_train.shape[0]:\n",
        "    np.random.shuffle(perm_array)\n",
        "    start = 0\n",
        "    index_in_epoch = batch_size\n",
        "  end = index_in_epoch\n",
        "  return x_train[perm_array[start:end]], y_train[perm_array[start:end]]"
      ],
      "execution_count": 0,
      "outputs": []
    },
    {
      "cell_type": "markdown",
      "metadata": {
        "id": "Gwwk40gkXj9q",
        "colab_type": "text"
      },
      "source": [
        "### BUILD MODEL"
      ]
    },
    {
      "cell_type": "code",
      "metadata": {
        "id": "KH1rT4ww0cBE",
        "colab_type": "code",
        "outputId": "0a44839c-d93e-43e7-c04d-e4ef76df4a21",
        "colab": {
          "base_uri": "https://localhost:8080/",
          "height": 224
        }
      },
      "source": [
        "# GRU\n",
        "layers = [tf.keras.layers.GRUCell(units=n_neurons, activation=tf.nn.elu)\n",
        "          for layer in range(n_layers)]\n",
        "\n",
        "multi_layer_cell = tf.keras.layers.StackedRNNCells(layers)\n",
        "rnn_outputs, states = tf.nn.dynamic_rnn(multi_layer_cell, X, dtype=tf.float32)\n",
        "stacked_rnn_outputs = tf.reshape(rnn_outputs, [-1, n_neurons])\n",
        "stacked_outputs = tf.layers.dense(stacked_rnn_outputs, n_outputs)\n",
        "outputs = tf.reshape(stacked_outputs, [-1, n_steps, n_outputs])\n",
        "outputs = outputs[:, n_steps-1, :] "
      ],
      "execution_count": 0,
      "outputs": [
        {
          "output_type": "stream",
          "text": [
            "WARNING: Logging before flag parsing goes to stderr.\n",
            "W0715 20:08:43.447061 139659395258240 deprecation.py:506] From /usr/local/lib/python3.6/dist-packages/tensorflow/python/ops/init_ops.py:1251: calling VarianceScaling.__init__ (from tensorflow.python.ops.init_ops) with dtype is deprecated and will be removed in a future version.\n",
            "Instructions for updating:\n",
            "Call initializer instance with the dtype argument instead of passing it to the constructor\n",
            "W0715 20:08:43.459773 139659395258240 deprecation.py:323] From <ipython-input-33-04b8e2ce65fc>:5: dynamic_rnn (from tensorflow.python.ops.rnn) is deprecated and will be removed in a future version.\n",
            "Instructions for updating:\n",
            "Please use `keras.layers.RNN(cell)`, which is equivalent to this API\n",
            "W0715 20:08:43.743323 139659395258240 deprecation.py:323] From <ipython-input-33-04b8e2ce65fc>:11: dense (from tensorflow.python.layers.core) is deprecated and will be removed in a future version.\n",
            "Instructions for updating:\n",
            "Use keras.layers.dense instead.\n"
          ],
          "name": "stderr"
        },
        {
          "output_type": "stream",
          "text": [
            "Tensor(\"rnn/transpose_1:0\", shape=(?, 19, 200), dtype=float32)\n"
          ],
          "name": "stdout"
        }
      ]
    },
    {
      "cell_type": "code",
      "metadata": {
        "id": "6030K9SG3Mbw",
        "colab_type": "code",
        "colab": {}
      },
      "source": [
        "loss = tf.math.reduce_mean(tf.math.square(outputs - y)) # MSE"
      ],
      "execution_count": 0,
      "outputs": []
    },
    {
      "cell_type": "code",
      "metadata": {
        "id": "FJ8WyAZg3UNG",
        "colab_type": "code",
        "outputId": "efab33da-37b1-4a3c-a8e6-5fe999d5f6c6",
        "colab": {
          "base_uri": "https://localhost:8080/",
          "height": 88
        }
      },
      "source": [
        "optimizer = tf.train.AdamOptimizer(learning_rate=learning_rate) # GRADIENT\n",
        "training_op = optimizer.minimize(loss)"
      ],
      "execution_count": 0,
      "outputs": [
        {
          "output_type": "stream",
          "text": [
            "W0715 20:08:44.286855 139659395258240 deprecation.py:323] From /usr/local/lib/python3.6/dist-packages/tensorflow/python/ops/math_grad.py:1250: add_dispatch_support.<locals>.wrapper (from tensorflow.python.ops.array_ops) is deprecated and will be removed in a future version.\n",
            "Instructions for updating:\n",
            "Use tf.where in 2.0, which has the same broadcast rule as np.where\n"
          ],
          "name": "stderr"
        }
      ]
    },
    {
      "cell_type": "code",
      "metadata": {
        "id": "Ay4xLAtJ4COL",
        "colab_type": "code",
        "outputId": "a8c778e9-7251-4418-d698-d46ec383f2d5",
        "colab": {
          "base_uri": "https://localhost:8080/",
          "height": 374
        }
      },
      "source": [
        "with tf.Session() as sess:\n",
        "  sess.run(tf.global_variables_initializer())\n",
        "  \n",
        "  for iteration in range(int(n_epochs*train_set_size/batch_size)):\n",
        "    x_batch, y_batch = get_next_batch(batch_size)\n",
        "    sess.run(training_op, feed_dict={X: x_batch, y:y_batch})\n",
        "    \n",
        "    if iteration % int(5*train_set_size/batch_size) == 0:\n",
        "      mse_train = loss.eval(feed_dict={X: x_train, y: y_train})\n",
        "      mse_valid = loss.eval(feed_dict={X: x_valid, y: y_valid})\n",
        "      print('%d epochs: MSE train/valid = %.6f/%.6f'%(\n",
        "          int(np.round(iteration*batch_size/train_set_size)), mse_train, mse_valid))\n",
        "      \n",
        "  y_test_pred = sess.run(outputs, feed_dict={X: x_test})"
      ],
      "execution_count": 0,
      "outputs": [
        {
          "output_type": "stream",
          "text": [
            "0 epochs: MSE train/valid = 0.013849/0.051102\n",
            "5 epochs: MSE train/valid = 0.000095/0.000208\n",
            "10 epochs: MSE train/valid = 0.000074/0.000088\n",
            "15 epochs: MSE train/valid = 0.000053/0.000050\n",
            "20 epochs: MSE train/valid = 0.000121/0.000262\n",
            "25 epochs: MSE train/valid = 0.000082/0.000174\n",
            "30 epochs: MSE train/valid = 0.000052/0.000055\n",
            "35 epochs: MSE train/valid = 0.000046/0.000042\n",
            "40 epochs: MSE train/valid = 0.000050/0.000057\n",
            "45 epochs: MSE train/valid = 0.000063/0.000076\n",
            "50 epochs: MSE train/valid = 0.000045/0.000033\n",
            "55 epochs: MSE train/valid = 0.000066/0.000107\n",
            "60 epochs: MSE train/valid = 0.000046/0.000055\n",
            "65 epochs: MSE train/valid = 0.000075/0.000131\n",
            "70 epochs: MSE train/valid = 0.000050/0.000076\n",
            "75 epochs: MSE train/valid = 0.000043/0.000050\n",
            "80 epochs: MSE train/valid = 0.000039/0.000027\n",
            "85 epochs: MSE train/valid = 0.000040/0.000027\n",
            "90 epochs: MSE train/valid = 0.000038/0.000034\n",
            "95 epochs: MSE train/valid = 0.000043/0.000050\n",
            "100 epochs: MSE train/valid = 0.000047/0.000079\n"
          ],
          "name": "stdout"
        }
      ]
    },
    {
      "cell_type": "markdown",
      "metadata": {
        "id": "8zyCH0P_8isr",
        "colab_type": "text"
      },
      "source": [
        "### PLOT"
      ]
    },
    {
      "cell_type": "code",
      "metadata": {
        "id": "y_cx530H8iCq",
        "colab_type": "code",
        "outputId": "cbcaec60-580b-4c22-a3ff-a6b308c625c0",
        "colab": {
          "base_uri": "https://localhost:8080/",
          "height": 323
        }
      },
      "source": [
        "results = pd.DataFrame({'true_y':y_test[:, 3], 'y_pred':y_test_pred[:, 3]})\n",
        "plt.figure(figsize=(10,5))\n",
        "plt.plot(results['true_y'], color='blue', label='Target')\n",
        "plt.plot(results['y_pred'], color='red', label='Prediction')\n",
        "plt.legend()\n",
        "plt.show()"
      ],
      "execution_count": 0,
      "outputs": [
        {
          "output_type": "display_data",
          "data": {
            "image/png": "[encoded data removed]",
            "text/plain": [
              "<Figure size 720x360 with 1 Axes>"
            ]
          },
          "metadata": {
            "tags": []
          }
        }
      ]
    }
  ]
}